{
 "cells": [
  {
   "cell_type": "markdown",
   "metadata": {},
   "source": [
    "# Self-Driving Car Engineer Nanodegree\n",
    "\n",
    "## Deep Learning\n",
    "\n",
    "## Project: Build a Traffic Sign Recognition Classifier\n",
    "\n",
    "In this notebook, a template is provided for you to implement your functionality in stages, which is required to successfully complete this project. If additional code is required that cannot be included in the notebook, be sure that the Python code is successfully imported and included in your submission if necessary. \n",
    "\n",
    "> **Note**: Once you have completed all of the code implementations, you need to finalize your work by exporting the iPython Notebook as an HTML document. Before exporting the notebook to html, all of the code cells need to have been run so that reviewers can see the final implementation and output. You can then export the notebook by using the menu above and navigating to  \\n\",\n",
    "    \"**File -> Download as -> HTML (.html)**. Include the finished document along with this notebook as your submission. \n",
    "\n",
    "In addition to implementing code, there is a writeup to complete. The writeup should be completed in a separate file, which can be either a markdown file or a pdf document. There is a [write up template](https://github.com/udacity/CarND-Traffic-Sign-Classifier-Project/blob/master/writeup_template.md) that can be used to guide the writing process. Completing the code template and writeup template will cover all of the [rubric points](https://review.udacity.com/#!/rubrics/481/view) for this project.\n",
    "\n",
    "The [rubric](https://review.udacity.com/#!/rubrics/481/view) contains \"Stand Out Suggestions\" for enhancing the project beyond the minimum requirements. The stand out suggestions are optional. If you decide to pursue the \"stand out suggestions\", you can include the code in this Ipython notebook and also discuss the results in the writeup file.\n",
    "\n",
    "\n",
    ">**Note:** Code and Markdown cells can be executed using the **Shift + Enter** keyboard shortcut. In addition, Markdown cells can be edited by typically double-clicking the cell to enter edit mode."
   ]
  },
  {
   "cell_type": "markdown",
   "metadata": {},
   "source": [
    "---\n",
    "## Step 1: Load The Data"
   ]
  },
  {
   "cell_type": "code",
   "execution_count": null,
   "metadata": {},
   "outputs": [],
   "source": [
    "# Load pickled data\n",
    "import pickle\n",
    "import csv\n",
    "import random\n",
    "import cv2\n",
    "import numpy as np\n",
    "from sklearn.utils import shuffle\n",
    "import tensorflow as tf\n",
    "from tensorflow.contrib.layers import flatten\n",
    "from sklearn.preprocessing import StandardScaler\n",
    "from sklearn.preprocessing import MinMaxScaler\n",
    "from scipy import ndimage, misc\n",
    "import matplotlib.pyplot as plt\n",
    "%matplotlib inline\n",
    "\n",
    "# TODO: Fill this in based on where you saved the training and testing data\n",
    "\n",
    "training_file = 'data/train.p'\n",
    "validation_file= 'data/valid.p'\n",
    "testing_file = 'data/test.p'\n",
    "\n",
    "with open(training_file, mode='rb') as f:\n",
    "    train = pickle.load(f)\n",
    "with open(validation_file, mode='rb') as f:\n",
    "    valid = pickle.load(f)\n",
    "with open(testing_file, mode='rb') as f:\n",
    "    test = pickle.load(f)\n",
    "    \n",
    "X_train, y_train = train['features'], train['labels']\n",
    "X_valid, y_valid = valid['features'], valid['labels']\n",
    "X_test, y_test = test['features'], test['labels']\n"
   ]
  },
  {
   "cell_type": "code",
   "execution_count": null,
   "metadata": {},
   "outputs": [],
   "source": [
    "############ Store names of signs in list ##################\n",
    "with open('signnames.csv') as csvfile:\n",
    "    readCSV = csv.reader(csvfile)\n",
    "    classID = []\n",
    "    signs =[]\n",
    "    count = 0\n",
    "    for row in readCSV:\n",
    "        if count == 0:\n",
    "            count += 1\n",
    "            continue\n",
    "        else:\n",
    "            classID.append(row[0])\n",
    "            signs.append(row[1])"
   ]
  },
  {
   "cell_type": "markdown",
   "metadata": {},
   "source": [
    "---\n",
    "\n",
    "## Step 2: Dataset Summary & Exploration\n",
    "\n",
    "The pickled data is a dictionary with 4 key/value pairs:\n",
    "\n",
    "- `'features'` is a 4D array containing raw pixel data of the traffic sign images, (num examples, width, height, channels).\n",
    "- `'labels'` is a 1D array containing the label/class id of the traffic sign. The file `signnames.csv` contains id -> name mappings for each id.\n",
    "- `'sizes'` is a list containing tuples, (width, height) representing the original width and height the image.\n",
    "- `'coords'` is a list containing tuples, (x1, y1, x2, y2) representing coordinates of a bounding box around the sign in the image. **THESE COORDINATES ASSUME THE ORIGINAL IMAGE. THE PICKLED DATA CONTAINS RESIZED VERSIONS (32 by 32) OF THESE IMAGES**\n",
    "\n",
    "Complete the basic data summary below. Use python, numpy and/or pandas methods to calculate the data summary rather than hard coding the results. For example, the [pandas shape method](http://pandas.pydata.org/pandas-docs/stable/generated/pandas.DataFrame.shape.html) might be useful for calculating some of the summary results. "
   ]
  },
  {
   "cell_type": "markdown",
   "metadata": {},
   "source": [
    "### Provide a Basic Summary of the Data Set Using Python, Numpy and/or Pandas"
   ]
  },
  {
   "cell_type": "code",
   "execution_count": null,
   "metadata": {},
   "outputs": [],
   "source": [
    "import statistics\n",
    "n_train = len(X_train)\n",
    "\n",
    "# TODO: Number of validation examples\n",
    "n_valid = len(X_valid)\n",
    "\n",
    "# TODO: Number of testing examples.\n",
    "n_test = len(X_test)\n",
    "\n",
    "# TODO: What's the shape of an traffic sign image?\n",
    "image_shape = X_train[0].shape\n",
    "\n",
    "# TODO: How many unique classes/labels there are in the dataset.\n",
    "n_classes = len(np.unique(y_train))\n",
    "\n",
    "print(\"Number of training examples =\", n_train)\n",
    "print(\"Number of validation examples =\", n_valid)\n",
    "print(\"Number of testing examples =\", n_test)\n",
    "print(\"Image data shape =\", image_shape)\n",
    "print(\"Number of classes =\", n_classes)\n"
   ]
  },
  {
   "cell_type": "markdown",
   "metadata": {},
   "source": [
    "### Include an exploratory visualization of the dataset"
   ]
  },
  {
   "cell_type": "markdown",
   "metadata": {},
   "source": [
    "Visualize the German Traffic Signs Dataset using the pickled file(s). This is open ended, suggestions include: plotting traffic sign images, plotting the count of each sign, etc. \n",
    "\n",
    "The [Matplotlib](http://matplotlib.org/) [examples](http://matplotlib.org/examples/index.html) and [gallery](http://matplotlib.org/gallery.html) pages are a great resource for doing visualizations in Python.\n",
    "\n",
    "**NOTE:** It's recommended you start with something simple first. If you wish to do more, come back to it after you've completed the rest of the sections. It can be interesting to look at the distribution of classes in the training, validation and test set. Is the distribution the same? Are there more examples of some classes than others?"
   ]
  },
  {
   "cell_type": "markdown",
   "metadata": {},
   "source": [
    "### Visualizing Train Data Set Examples"
   ]
  },
  {
   "cell_type": "code",
   "execution_count": null,
   "metadata": {},
   "outputs": [],
   "source": [
    "bins = np.arange(0,44,1).tolist()\n",
    "\n",
    "histogram = np.histogram(y_train, bins=bins)\n",
    "#print(histogram[0])\n",
    "#print(histogram[1])\n",
    "plt.figure(figsize=(12,8))\n",
    "plt.hist([y_train, y_valid, y_test], bins = bins, label=['Train', 'Valid', 'Test']) \n",
    "plt.title(\"Traffic Sign Data Distribution\")\n",
    "plt.legend(loc='upper right')\n",
    "plt.show()"
   ]
  },
  {
   "cell_type": "code",
   "execution_count": null,
   "metadata": {},
   "outputs": [],
   "source": [
    "cols = 3\n",
    "rows = 3\n",
    "fig = plt.figure(figsize=(12,8))\n",
    "fig.suptitle('Raw X_train Data', fontsize=20) \n",
    "\n",
    "for i in range(1,rows*cols+1):\n",
    "    index = random.randint(0,len(X_train))\n",
    "    label = y_train[index]\n",
    "    ax = fig.add_subplot(rows,cols,i)\n",
    "    ax.set_title('Sign:{}'.format(signs[label]))\n",
    "    plt.imshow(X_train[index])\n",
    "      \n",
    "fig.tight_layout()\n",
    "fig.subplots_adjust(top=0.9)  "
   ]
  },
  {
   "cell_type": "markdown",
   "metadata": {},
   "source": [
    "### Visualizing Validation Data Set Examples and Distribution"
   ]
  },
  {
   "cell_type": "code",
   "execution_count": null,
   "metadata": {},
   "outputs": [],
   "source": [
    "bins = np.arange(0,44,1).tolist()\n",
    "\n",
    "histogram = np.histogram(y_valid, bins=bins)\n",
    "#print(histogram[0])\n",
    "#print(histogram[1])\n",
    "plt.hist(y_valid, bins = bins) \n",
    "plt.title(\"histogram\") \n",
    "plt.show()"
   ]
  },
  {
   "cell_type": "code",
   "execution_count": null,
   "metadata": {},
   "outputs": [],
   "source": [
    "cols = 3\n",
    "rows = 3\n",
    "fig = plt.figure(figsize=(12,8))\n",
    "fig.suptitle('Raw X_valid Data', fontsize=20) \n",
    "\n",
    "for i in range(1,rows*cols+1):\n",
    "    index = random.randint(0,len(X_valid))\n",
    "    label = y_valid[index]\n",
    "    ax = fig.add_subplot(rows,cols,i)\n",
    "    ax.set_title('Sign:{}'.format(signs[label]))\n",
    "    plt.imshow(X_valid[index])\n",
    "      \n",
    "fig.tight_layout()\n",
    "fig.subplots_adjust(top=0.9)  "
   ]
  },
  {
   "cell_type": "markdown",
   "metadata": {},
   "source": [
    "### Visualizing Test Data Set Examples"
   ]
  },
  {
   "cell_type": "code",
   "execution_count": null,
   "metadata": {},
   "outputs": [],
   "source": [
    "bins = np.arange(0,44,1).tolist()\n",
    "\n",
    "histogram = np.histogram(y_test, bins=bins)\n",
    "#print(histogram[0])\n",
    "#print(histogram[1])\n",
    "plt.hist(y_test, bins = bins) \n",
    "plt.title(\"histogram\") \n",
    "plt.show()"
   ]
  },
  {
   "cell_type": "code",
   "execution_count": null,
   "metadata": {},
   "outputs": [],
   "source": [
    "cols = 3\n",
    "rows = 3\n",
    "fig = plt.figure(figsize=(12,8))\n",
    "fig.suptitle('Raw X_test Data', fontsize=20) \n",
    "\n",
    "for i in range(1,rows*cols+1):\n",
    "    index = random.randint(0,len(X_test))\n",
    "    label = y_test[index]\n",
    "    ax = fig.add_subplot(rows,cols,i)\n",
    "    ax.set_title('Sign: {}'.format(signs[label]))\n",
    "    plt.imshow(X_test[index])\n",
    "      \n",
    "fig.tight_layout()\n",
    "fig.subplots_adjust(top=0.9)  "
   ]
  },
  {
   "cell_type": "markdown",
   "metadata": {},
   "source": [
    "## Step 2: Increase Data set and Distribution"
   ]
  },
  {
   "cell_type": "code",
   "execution_count": null,
   "metadata": {},
   "outputs": [],
   "source": [
    "################### Increase data set size ############################\n",
    "from scipy import ndimage\n",
    "import random\n",
    "add_images = []\n",
    "add_y = []\n",
    "histogram = np.histogram(y_train, bins=bins)\n",
    "\n",
    "min_val = 1800\n",
    "for i in range(len(histogram[1])-1):\n",
    "    curr_val = histogram[0][i]\n",
    "    while curr_val < min_val:\n",
    "        for j in range(n_train):\n",
    "            if curr_val == min_val:\n",
    "                print(curr_val)\n",
    "                break\n",
    "            else:\n",
    "                if y_train[j] == i:\n",
    "                    copy = X_train[j]\n",
    "                    add_images.append(copy)\n",
    "                    add_y.append(y_train[j])\n",
    "                    curr_val +=1          \n",
    "    \n",
    "print('Number of images to be added to overall data set: ', len(add_images))\n",
    "\n"
   ]
  },
  {
   "cell_type": "markdown",
   "metadata": {},
   "source": [
    "### Visualize new distrubution of increased data set"
   ]
  },
  {
   "cell_type": "code",
   "execution_count": null,
   "metadata": {},
   "outputs": [],
   "source": [
    "add_images = np.array(add_images)\n",
    "add_y = np.array(add_y)\n",
    "X_train_new = np.concatenate((X_train, add_images), axis=0)\n",
    "y_train_new = np.concatenate((y_train, add_y), axis=0)\n",
    "\n",
    "X_train = X_train_new\n",
    "y_train = y_train_new\n",
    "\n",
    "bins = np.arange(0,44,1).tolist()\n",
    "\n",
    "\n",
    "#print(histogram[0])\n",
    "#print(histogram[1])\n",
    "#plt.hist(y_train, bins = bins) \n",
    "#plt.title(\"histogram\") \n",
    "#plt.show()\n",
    "plt.figure(figsize=(12,8))\n",
    "plt.hist([y_train, y_valid, y_test], bins = bins, label=['Train', 'Valid', 'Test']) \n",
    "plt.title(\"Traffic Sign Data Distribution\")\n",
    "plt.legend(loc='upper right')\n",
    "plt.show()\n"
   ]
  },
  {
   "cell_type": "markdown",
   "metadata": {},
   "source": [
    "## Step 3: Augment Data Set"
   ]
  },
  {
   "cell_type": "code",
   "execution_count": null,
   "metadata": {},
   "outputs": [],
   "source": [
    "def sharpen(img):\n",
    "    kernel_sharpening=np.array([[-1,-1,-1],\n",
    "                                [-1, 9, -1],\n",
    "                                [-1,-1,-1]])\n",
    "    sharpened = cv2.filter2D(img, -1, kernel_sharpening)\n",
    "    return sharpened\n",
    "\n",
    "def rand_rot(image):\n",
    "    image = ndimage.rotate(image, angle=random.randint(-5,5), reshape=False)\n",
    "    return image\n",
    "\n",
    "def rand_translate(image):\n",
    "    x = random.randint(-5,5)\n",
    "    y = random.randint(-5,5)\n",
    "    num_rows, num_cols = image.shape[:2]\n",
    "    translate_mat = np.float32([[1,0,x], [0,1,y]])\n",
    "    #image = cv2.warpAffine(image, translate_mat, (num_cols, num_rows))\n",
    "    image = cv2.warpAffine(image, translate_mat, (num_cols, num_rows))\n",
    "    return image\n",
    "\n",
    "def gauss_blur(image):\n",
    "    x = random.randrange(1,3,2)\n",
    "    image = cv2.GaussianBlur(image,(x, x), 0)\n",
    "    return image\n",
    "\n",
    "def increase_brightness(image, value=30):\n",
    "    hsv = cv2.cvtColor(image, cv2.COLOR_BGR2HSV)\n",
    "    h, s, v = cv2.split(hsv)\n",
    "\n",
    "    lim = 255 - value\n",
    "    v[v > lim] = 255\n",
    "    v[v <= lim] += value\n",
    "\n",
    "    final_hsv = cv2.merge((h, s, v))\n",
    "    img = cv2.cvtColor(final_hsv, cv2.COLOR_HSV2BGR)\n",
    "    return image\n",
    "\n",
    "def left_warp(image):\n",
    "    rows = image.shape[0]\n",
    "    cols = image.shape[1]\n",
    "    img_size = (image.shape[1], image.shape[0])\n",
    "    \n",
    "    x1 = rows/4\n",
    "    x2 = 3*rows/4\n",
    "    y1 = cols/4\n",
    "    y2 = 3*cols/4\n",
    "      \n",
    "    src_points = np.float32(\n",
    "    [[x1,  y2],\n",
    "     [x1,  y1],\n",
    "     [x2,  y1],\n",
    "     [x2, y2]])\n",
    "\n",
    "    #left tilt\n",
    "    dst_points = np.float32(\n",
    "    [[x1+2,  y2-3],\n",
    "     [x1+2,  y1+3],\n",
    "     [x2+3,  y1],\n",
    "     [x2+3, y2]])\n",
    "      \n",
    "    M = cv2.getPerspectiveTransform(src_points, dst_points)\n",
    "    warped = cv2.warpPerspective(image, M, img_size, flags=cv2.INTER_LINEAR)\n",
    "    return warped\n",
    "    \n",
    "def right_warp(image):\n",
    "    rows = image.shape[0]\n",
    "    cols = image.shape[1]\n",
    "    img_size = (image.shape[1], image.shape[0])\n",
    "    \n",
    "    x1 = rows/4\n",
    "    x2 = 3*rows/4\n",
    "    y1 = cols/4\n",
    "    y2 = 3*cols/4\n",
    "      \n",
    "    src_points = np.float32(\n",
    "    [[x1,  y2],\n",
    "     [x1,  y1],\n",
    "     [x2,  y1],\n",
    "     [x2, y2]])\n",
    "    \n",
    "    #right tilt\n",
    "    dst_points = np.float32(\n",
    "    [[x1+2,  y2-1],\n",
    "     [x1+2,  y1+1],\n",
    "     [x2-3,  y1+3],\n",
    "     [x2-3, y2-3]])\n",
    "    \n",
    "    M = cv2.getPerspectiveTransform(src_points, dst_points)\n",
    "    warped = cv2.warpPerspective(image, M, img_size, flags=cv2.INTER_LINEAR)\n",
    "    return warped"
   ]
  },
  {
   "cell_type": "code",
   "execution_count": null,
   "metadata": {},
   "outputs": [],
   "source": [
    "#Create dictionary of image augmentation functions\n",
    "Augmentation = {\n",
    "    'Random Rotation' : rand_rot,\n",
    "    'Random Translate' : rand_translate,\n",
    "    'Gaussian Blur'   : gauss_blur,\n",
    "    'Brightness'     : increase_brightness,\n",
    "    'Left Warp' : left_warp,\n",
    "    'Right Warp' : right_warp\n",
    "}\n"
   ]
  },
  {
   "cell_type": "code",
   "execution_count": null,
   "metadata": {},
   "outputs": [],
   "source": [
    "################### Randomly augment images in total data set ############################\n",
    "\n",
    "for i in range(len(histogram[1])-1):\n",
    "    # Iterate through entire data set in search of the y_label(i)\n",
    "    for j in range(len(y_train)):\n",
    "        # if y_labe is equal to i, then random augment that image\n",
    "        if y_train[j] == i:\n",
    "            ## Sharpened ang brighten each image before random augmentation\n",
    "            sharp_img = sharpen(X_train[j])\n",
    "            bright_img = increase_brightness(sharp_img, value=30)\n",
    "            key = random.choice(list(Augmentation))\n",
    "            new_image = Augmentation[key](sharp_img)\n",
    "            X_train[j]= new_image\n",
    "\n",
    "\"\"\"        \n",
    "\n",
    "#Iterate through each y_label of the data set \n",
    "histogram = np.histogram(y_train, bins=bins)\n",
    "#print('histogram check = ', histogram[0][1])\n",
    "#Iterate through each y_label of the data set \n",
    "for i in range(len(histogram[1])-1):\n",
    "    # Iterate through entire data set in search of the y_label(i)\n",
    "    for j in range(len(y_train)):\n",
    "        # if y_labe is equal to i, then random augment that image\n",
    "        if y_train[j] == i:\n",
    "            key = random.choice(list(Augmentation))\n",
    "            new_image = Augmentation[key](X_train[j])\n",
    "            X_train[j]= new_image\n",
    "\"\"\"\n",
    "print('finished')\n",
    "print('X_train total images = ', X_train.shape[0])\n",
    "#plt.imshow(X_train[5])"
   ]
  },
  {
   "cell_type": "markdown",
   "metadata": {},
   "source": [
    "## Visualize Augmented Data"
   ]
  },
  {
   "cell_type": "code",
   "execution_count": null,
   "metadata": {},
   "outputs": [],
   "source": [
    "img_list =  []\n",
    "\n",
    "for i in range(30,35):\n",
    "    count = 0\n",
    "    for j in range(len(y_train)):\n",
    "        if y_train[j] == i:\n",
    "            img_list.append(X_train[j])\n",
    "            count += 1\n",
    "        if count >=5:\n",
    "            break\n",
    "print(len(img_list))\n",
    "\n",
    "fig = plt.figure(figsize=(10,10))\n",
    "cols = 5\n",
    "rows = 5\n",
    "for i in range(1,rows*cols+1):\n",
    "    ax = fig.add_subplot(rows,cols,i)\n",
    "    img = img_list[i-1].squeeze()\n",
    "    plt.imshow(img, cmap='gray')\n",
    "\n",
    "plt.tight_layout()"
   ]
  },
  {
   "cell_type": "markdown",
   "metadata": {},
   "source": [
    "----\n",
    "\n",
    "## Step 2: Design and Test a Model Architecture\n",
    "\n",
    "Design and implement a deep learning model that learns to recognize traffic signs. Train and test your model on the [German Traffic Sign Dataset](http://benchmark.ini.rub.de/?section=gtsrb&subsection=dataset).\n",
    "\n",
    "The LeNet-5 implementation shown in the [classroom](https://classroom.udacity.com/nanodegrees/nd013/parts/fbf77062-5703-404e-b60c-95b78b2f3f9e/modules/6df7ae49-c61c-4bb2-a23e-6527e69209ec/lessons/601ae704-1035-4287-8b11-e2c2716217ad/concepts/d4aca031-508f-4e0b-b493-e7b706120f81) at the end of the CNN lesson is a solid starting point. You'll have to change the number of classes and possibly the preprocessing, but aside from that it's plug and play! \n",
    "\n",
    "With the LeNet-5 solution from the lecture, you should expect a validation set accuracy of about 0.89. To meet specifications, the validation set accuracy will need to be at least 0.93. It is possible to get an even higher accuracy, but 0.93 is the minimum for a successful project submission. \n",
    "\n",
    "There are various aspects to consider when thinking about this problem:\n",
    "\n",
    "- Neural network architecture (is the network over or underfitting?)\n",
    "- Play around preprocessing techniques (normalization, rgb to grayscale, etc)\n",
    "- Number of examples per label (some have more than others).\n",
    "- Generate fake data.\n",
    "\n",
    "Here is an example of a [published baseline model on this problem](http://yann.lecun.com/exdb/publis/pdf/sermanet-ijcnn-11.pdf). It's not required to be familiar with the approach used in the paper but, it's good practice to try to read papers like these."
   ]
  },
  {
   "cell_type": "markdown",
   "metadata": {},
   "source": [
    "### Pre-process the Data Set (normalization, grayscale, etc.)"
   ]
  },
  {
   "cell_type": "markdown",
   "metadata": {},
   "source": [
    "Minimally, the image data should be normalized so that the data has mean zero and equal variance. For image data, `(pixel - 128)/ 128` is a quick way to approximately normalize the data and can be used in this project. \n",
    "\n",
    "Other pre-processing steps are optional. You can try different techniques to see if it improves performance. \n",
    "\n",
    "Use the code cell (or multiple code cells, if necessary) to implement the first step of your project."
   ]
  },
  {
   "cell_type": "code",
   "execution_count": null,
   "metadata": {},
   "outputs": [],
   "source": [
    "############## Sharpen/Brighten Validation  and Test Images ########################\n",
    "for i in range(len(X_valid)):\n",
    "    sharp_valid = sharpen(X_valid[i])\n",
    "    bright_valid = increase_brightness(sharp_valid)\n",
    "    X_valid[i] = bright_valid\n",
    "    \n",
    "\n",
    "for j in range(len(X_test)):\n",
    "    sharp_test = sharpen(X_test[j])\n",
    "    bright_test = increase_brightness(sharp_test)\n",
    "    X_test[j] = bright_test\n",
    "    \n",
    "print('finished sharpening and brightening') "
   ]
  },
  {
   "cell_type": "code",
   "execution_count": null,
   "metadata": {},
   "outputs": [],
   "source": [
    "####################Convert to grayscale#############################\n",
    "\n",
    "X_train_gray = np.sum(X_train/3, axis=3, keepdims=True)\n",
    "X_valid_gray = np.sum(X_valid/3, axis=3, keepdims=True)\n",
    "X_test_gray = np.sum(X_test/3, axis=3, keepdims=True)\n"
   ]
  },
  {
   "cell_type": "code",
   "execution_count": null,
   "metadata": {},
   "outputs": [],
   "source": [
    "###################Standardize data#####################################           \n",
    "\n",
    "\"\"\"\n",
    "d1,d2,d3,d4 = X_train.shape[0], X_train.shape[1], X_train.shape[2], X_train.shape[3]\n",
    "v1,v2,v3,v4 = X_valid.shape[0], X_valid.shape[1], X_valid.shape[2], X_valid.shape[3]\n",
    "t1,t2,t3,t4 = X_test.shape[0], X_test.shape[1], X_test.shape[2], X_test.shape[3]\n",
    "X_train = X_train.reshape(d1,d2*d3*d4)\n",
    "X_valid = X_valid.reshape(v1,v2*v3*v4)\n",
    "X_test = X_test.reshape(t1,t2*t3*t4)\n",
    "scaler = StandardScaler()\n",
    "#scaler = MinMaxScaler()\n",
    "X_rescale = scaler.fit_transform(X_train)\n",
    "X_valid = scaler.fit_transform(X_valid)\n",
    "X_test = scaler.fit_transform(X_test)\n",
    "np.set_printoptions(precision=3)\n",
    "X_train = X_rescale.reshape(d1,d2,d3,d4)\n",
    "X_valid = X_valid.reshape(v1,v2,v3,v4)\n",
    "X_test = X_test.reshape(t1,t2,t3,t4)\n",
    "\"\"\"      \n",
    "X_train_normalized = (X_train_gray - 128)/128 \n",
    "X_valid_normalized = (X_valid_gray - 128)/128\n",
    "X_test_normalized = (X_test_gray - 128)/128"
   ]
  },
  {
   "cell_type": "markdown",
   "metadata": {},
   "source": [
    "### Shuffle Training Data Set"
   ]
  },
  {
   "cell_type": "code",
   "execution_count": null,
   "metadata": {},
   "outputs": [],
   "source": [
    "####################Shuffle Data#############################\n",
    "X_train_normalized, y_train = shuffle(X_train_normalized, y_train)"
   ]
  },
  {
   "cell_type": "markdown",
   "metadata": {},
   "source": [
    "### Model Architecture"
   ]
  },
  {
   "cell_type": "code",
   "execution_count": null,
   "metadata": {},
   "outputs": [],
   "source": [
    "###################### CNN Model ###################\n",
    "\n",
    "def conv2d(x,W,b, strides=1):\n",
    "    x = tf.nn.conv2d(x,W,strides=[1,strides,strides,1], padding='VALID')\n",
    "    x = tf.nn.bias_add(x,b)\n",
    "    #x = tf.nn.relu(x)\n",
    "    return x\n",
    "\n",
    "def maxpool2d(x,k=2):\n",
    "    mp = tf.nn.max_pool(x, ksize=[1,k,k,1], strides=[1,k,k,1], padding='VALID')\n",
    "    return mp\n",
    "\n",
    "def LeNet_OG(x):    \n",
    "    # Arguments used for tf.truncated_normal, randomly defines variables for the weights and biases for each layer\n",
    "    mu = 0\n",
    "    sigma = 0.1\n",
    "    \n",
    "    weights = {\n",
    "        'wc1': tf.Variable(tf.truncated_normal(shape = [5,5,1,6], mean=mu, stddev=sigma)),\n",
    "        'wc2': tf.Variable(tf.truncated_normal(shape = [5,5,6,16], mean=mu, stddev=sigma)),\n",
    "        'wf1': tf.Variable(tf.truncated_normal(shape = [400, 120], mean = mu, stddev=sigma)),\n",
    "        'wf2': tf.Variable(tf.truncated_normal(shape = [120, 84], mean = mu, stddev=sigma)),\n",
    "        'out': tf.Variable(tf.truncated_normal([84,43], mean=mu, stddev=sigma))\n",
    "    }\n",
    "    \n",
    "    biases = {\n",
    "        'bc1': tf.Variable(tf.zeros(6)),\n",
    "        'bc2': tf.Variable(tf.zeros(16)),\n",
    "        'bf1': tf.Variable(tf.zeros(120)),\n",
    "        'bf2': tf.Variable(tf.zeros(84)),\n",
    "        'out': tf.Variable(tf.zeros(43))\n",
    "    }\n",
    "    \n",
    "    #output_height = ceil(in_height-filter_height +1/strides)\n",
    "    \n",
    "    ############## Layer 1 Convolutional ######################\n",
    "    #Layer1: Convolutional. Input = 32x32x1. Output = 28x28x6.\n",
    "    #print(x.shape)\n",
    "    conv1 = conv2d(x, weights['wc1'], biases['bc1'])\n",
    "    #Layer1: Activation.\n",
    "    conv1 = tf.nn.relu(conv1)\n",
    "    #Layer1: Pooling. Input = 28x28x6. Output = 14x14x6.\n",
    "    conv1 = maxpool2d(conv1, k=2)\n",
    "    #print(conv1.shape)\n",
    "    ############## Layer 2 Convolutional ######################\n",
    "    #Layer2: Convolutional. Output = 10x10x16.\n",
    "    conv2 = conv2d(conv1, weights['wc2'], biases['bc2'])\n",
    "    #Layer2: Activation.\n",
    "    conv2 = tf.nn.relu(conv2)\n",
    "    #Layer2: Pooling. Input = 10x10x16. Output = 5x5x16.\n",
    "    conv2 = maxpool2d(conv2, k=2)\n",
    "    #print(conv2.shape)\n",
    "    # Flatten. Input = 5x5x16. Output = 400.\n",
    "    fc0 = flatten(conv2)\n",
    "    fc0 = tf.nn.dropout(fc0, keep_prob)\n",
    "    ############## Layer 3 Fully Connected ######################\n",
    "    #Layer3: Fully Connected. Input = 400. Output = 120.\n",
    "    ful_con1 = tf.add(tf.matmul(fc0, weights['wf1']), biases['bf1'])\n",
    "    #Layer3: Activation.\n",
    "    ful_con1 = tf.nn.relu(ful_con1)\n",
    "    #Layer 3: Dropout\n",
    "    ful_con1 = tf.nn.dropout(ful_con1, keep_prob)\n",
    "    ############## Layer 4 Fully Connected ######################\n",
    "    #Layer4: Fully Connected. Input = 120. Output = 84.\n",
    "    ful_con2 = tf.add(tf.matmul(ful_con1, weights['wf2']), biases['bf2'])\n",
    "    #Layer4: Activation.\n",
    "    ful_con2 = tf.nn.relu(ful_con2)\n",
    "    #Layer5: Dropout\n",
    "    ful_con2 = tf.nn.dropout(ful_con2, keep_prob)\n",
    "    ############## Layer 5 Fully Connected ######################\n",
    "    #Layer5: Fully Connected. Input = 84. Output = 43.\n",
    "    logits = tf.add(tf.matmul(ful_con2, weights['out']), biases['out'])\n",
    "    \n",
    "    return logits"
   ]
  },
  {
   "cell_type": "markdown",
   "metadata": {},
   "source": [
    "### Features and Labels"
   ]
  },
  {
   "cell_type": "code",
   "execution_count": null,
   "metadata": {},
   "outputs": [],
   "source": [
    "x = tf.placeholder(tf.float32, (None, 32, 32, 1), name='x_dat')\n",
    "y = tf.placeholder(tf.int32, (None), name='y_dat')\n",
    "one_hot_y = tf.one_hot(y, 43)\n",
    "keep_prob = tf.placeholder(tf.float32)"
   ]
  },
  {
   "cell_type": "markdown",
   "metadata": {},
   "source": [
    "### Train, Validate and Test the Model"
   ]
  },
  {
   "cell_type": "markdown",
   "metadata": {},
   "source": [
    "A validation set can be used to assess how well the model is performing. A low accuracy on the training and validation\n",
    "sets imply underfitting. A high accuracy on the training set but low accuracy on the validation set implies overfitting."
   ]
  },
  {
   "cell_type": "markdown",
   "metadata": {},
   "source": [
    "### Training Pipeline"
   ]
  },
  {
   "cell_type": "code",
   "execution_count": null,
   "metadata": {},
   "outputs": [],
   "source": [
    "######################## Hyperparameters #####################################\n",
    "rate = 0.001\n",
    "EPOCHS = 15\n",
    "BATCH_SIZE = 64\n",
    "#keep_prob = 0.5\n",
    "\n",
    "print('learning rate = ', rate)\n",
    "print('epochs = ', EPOCHS)\n",
    "print('batch size = ', BATCH_SIZE)\n",
    "#print('dropout rate = ', keep_prob)\n",
    "\n",
    "######################## Training Pipeline ###################################\n",
    "logits = LeNet_OG(x)\n",
    "cross_entropy = tf.nn.softmax_cross_entropy_with_logits(labels=one_hot_y, logits=logits)\n",
    "loss_operation = tf.reduce_mean(cross_entropy)\n",
    "optimizer = tf.train.AdamOptimizer(learning_rate = rate)\n",
    "training_operation = optimizer.minimize(loss_operation)\n",
    "\n",
    "\n"
   ]
  },
  {
   "cell_type": "markdown",
   "metadata": {},
   "source": [
    "### Model Evaluation"
   ]
  },
  {
   "cell_type": "code",
   "execution_count": null,
   "metadata": {},
   "outputs": [],
   "source": [
    "######################## Model Evaluation ###################################\n",
    "correct_prediction = tf.equal(tf.argmax(logits, 1), tf.argmax(one_hot_y, 1))\n",
    "accuracy_operation = tf.reduce_mean(tf.cast(correct_prediction, tf.float32))\n",
    "saver = tf.train.Saver()\n",
    "\n",
    "def evaluate(X_data, y_data):\n",
    "    num_examples = len(X_data)\n",
    "    total_accuracy = 0\n",
    "    sess = tf.get_default_session()\n",
    "    for offset in range(0, num_examples, BATCH_SIZE):\n",
    "        batch_x, batch_y = X_data[offset:offset+BATCH_SIZE], y_data[offset:offset+BATCH_SIZE]\n",
    "        accuracy = sess.run(accuracy_operation, feed_dict={x: batch_x, y: batch_y, keep_prob: 1.0})\n",
    "        total_accuracy += (accuracy * len(batch_x))\n",
    "    return total_accuracy / num_examples"
   ]
  },
  {
   "cell_type": "markdown",
   "metadata": {},
   "source": [
    "### Train the Model"
   ]
  },
  {
   "cell_type": "code",
   "execution_count": null,
   "metadata": {},
   "outputs": [],
   "source": [
    "with tf.Session() as sess:\n",
    "    sess.run(tf.global_variables_initializer())\n",
    "    num_examples = len(X_train_normalized)\n",
    "    #initialize empty list to store validation accuracy\n",
    "    acc_list = []\n",
    "    print(\"Training...\")\n",
    "    print()\n",
    "    for i in range(EPOCHS):\n",
    "        X_train_normalized, y_train = shuffle(X_train_normalized, y_train)\n",
    "        for offset in range(0, num_examples, BATCH_SIZE):\n",
    "            end = offset + BATCH_SIZE\n",
    "            batch_x, batch_y = X_train_normalized[offset:end], y_train[offset:end]\n",
    "            sess.run(training_operation, feed_dict={x: batch_x, y: batch_y, keep_prob: 0.85})\n",
    "            \n",
    "        validation_accuracy = evaluate(X_valid_normalized, y_valid)\n",
    "        acc_list.append(validation_accuracy)\n",
    "        print(\"EPOCH {} ...\".format(i+1))\n",
    "        print(\"Validation Accuracy = {:.3f}\".format(validation_accuracy))\n",
    "        print()\n",
    "        \n",
    "    saver.save(sess, './lenet')\n",
    "    print(\"Model saved\")"
   ]
  },
  {
   "cell_type": "markdown",
   "metadata": {},
   "source": [
    "## Training Accuracy vs Validation Set"
   ]
  },
  {
   "cell_type": "code",
   "execution_count": null,
   "metadata": {},
   "outputs": [],
   "source": [
    "import matplotlib.pyplot as plt\n",
    "%matplotlib inline\n",
    "x_list = np.arange(len(acc_list))\n",
    "plt.plot(x_list,acc_list)"
   ]
  },
  {
   "cell_type": "markdown",
   "metadata": {},
   "source": [
    "## Test Model on Test Data Set"
   ]
  },
  {
   "cell_type": "code",
   "execution_count": null,
   "metadata": {},
   "outputs": [],
   "source": [
    "with tf.Session() as sess:\n",
    "    saver.restore(sess, tf.train.latest_checkpoint('.'))\n",
    "    test_accuracy = evaluate(X_test_normalized, y_test)\n",
    "    print(\"Test Accuracy = {:.3f}\".format(test_accuracy))"
   ]
  },
  {
   "cell_type": "markdown",
   "metadata": {},
   "source": [
    "---\n",
    "\n",
    "## Step 3: Test a Model on New Images\n",
    "\n",
    "To give yourself more insight into how your model is working, download at least five pictures of German traffic signs from the web and use your model to predict the traffic sign type.\n",
    "\n",
    "You may find `signnames.csv` useful as it contains mappings from the class id (integer) to the actual sign name."
   ]
  },
  {
   "cell_type": "markdown",
   "metadata": {},
   "source": [
    "### Load and Output the Images"
   ]
  },
  {
   "cell_type": "code",
   "execution_count": null,
   "metadata": {},
   "outputs": [],
   "source": [
    "### Load the images and plot them here.\n",
    "### Feel free to use as many code cells as needed.\n",
    "import glob\n",
    "import cv2\n",
    "import numpy as np\n",
    "import matplotlib.pyplot as plt\n",
    "%matplotlib inline\n",
    "\n",
    "my_images = []\n",
    "labels =[3 , 17 , 14 , 37 , 13 , 34]\n",
    "\n",
    "\n",
    "for img in sorted(glob.glob('My_signs/*.PNG')):\n",
    "    img = cv2.imread(img)\n",
    "    img = cv2.cvtColor(img, cv2.COLOR_BGR2RGB)\n",
    "    img = cv2.resize(img, (32,32), interpolation=cv2.INTER_AREA)\n",
    "    my_images.append(img)\n",
    "    \n",
    "    \n",
    "fig = plt.figure(figsize=(8,5))\n",
    "cols = 3\n",
    "rows = 2\n",
    "for i in range(1,rows*cols+1):\n",
    "    ax = fig.add_subplot(rows,cols,i)\n",
    "    img = my_images[i-1]\n",
    "    plt.imshow(img)"
   ]
  },
  {
   "cell_type": "code",
   "execution_count": null,
   "metadata": {},
   "outputs": [],
   "source": [
    "########### Brighten and sharpen images ############\n",
    "for i in range(len(my_images)):\n",
    "    sharp_valid = sharpen(my_images[i])\n",
    "    bright_valid = increase_brightness(sharp_valid)\n",
    "    my_images[i] = bright_valid\n",
    "    \n",
    "    \n",
    "#Grayscale and Normalize my signs\n",
    "my_images = np.array(my_images)\n",
    "my_images_gray = np.sum(my_images/3, axis = 3, keepdims=True)\n",
    "my_images_norm = (my_images_gray - 128)/128\n",
    "    \n",
    "fig2 = plt.figure(figsize=(8,5))\n",
    "\n",
    "for i in range(1,rows*cols+1):\n",
    "    ax = fig2.add_subplot(rows,cols,i)\n",
    "    imgs = my_images_norm[i-1].squeeze()\n",
    "    plt.imshow(imgs, cmap='gray')"
   ]
  },
  {
   "cell_type": "markdown",
   "metadata": {},
   "source": [
    "### Predict the Sign Type for Each Image"
   ]
  },
  {
   "cell_type": "code",
   "execution_count": null,
   "metadata": {},
   "outputs": [],
   "source": [
    "### Run the predictions here and use the model to output the prediction for each image.\n",
    "### Make sure to pre-process the images with the same pre-processing pipeline used earlier.\n",
    "### Feel free to use as many code cells as needed.\n",
    "with tf.Session() as sess:\n",
    "    saver.restore(sess, tf.train.latest_checkpoint('.'))\n",
    "    myTest_accuracy = evaluate(my_images_norm, labels)\n",
    "    print(\"My Test Accuracy = {:.3f}\".format(myTest_accuracy))"
   ]
  },
  {
   "cell_type": "markdown",
   "metadata": {},
   "source": [
    "### Analyze Performance"
   ]
  },
  {
   "cell_type": "code",
   "execution_count": null,
   "metadata": {},
   "outputs": [],
   "source": [
    "### Print out the top five softmax probabilities for the predictions on the German traffic sign images found on the web. \n",
    "### Feel free to use as many code cells as needed.\n",
    "softmax_logits = tf.nn.softmax(logits)\n",
    "k_size = 4\n",
    "top_k = tf.nn.top_k(softmax_logits, k=k_size)\n",
    "\n",
    "with tf.Session() as sess:\n",
    "    saver.restore(sess, tf.train.latest_checkpoint('.'))\n",
    "    my_softmax_logits = sess.run(softmax_logits, feed_dict={x: my_images_norm, keep_prob: 1.0})\n",
    "    top_k_out = sess.run(top_k, feed_dict={x:my_images_norm, keep_prob: 1.0})\n",
    "    \n",
    "    TopKV, indicies = top_k_out\n",
    "guess_index =[]\n",
    "images =[]\n",
    "guess = []\n",
    "img_count = 0\n",
    "for i in range(len(TopKV)): # len = 6\n",
    "    for j in range(-1,k_size): # len k_size = 4\n",
    "        if j == -1:\n",
    "            images.append(my_images[img_count])\n",
    "            guess.append(0)\n",
    "            guess_index.append(0)\n",
    "            img_count +=1\n",
    "        else:\n",
    "            guess_index.append(indicies[i][j])\n",
    "            index = np.argwhere(y_valid == indicies[i][j])[0]\n",
    "            images.append(X_valid[index])\n",
    "            guess.append(TopKV[i][j])\n",
    "            \n",
    "rows = len(TopKV)\n",
    "cols = k_size+1\n",
    "fig3 = plt.figure(figsize=(18,15))\n",
    "\n",
    "print(len(guess_index))\n",
    "\n",
    "for i in range(1,rows*cols+1):\n",
    "    ax = fig3.add_subplot(rows,cols,i)\n",
    "    if guess[i-1] == 0:\n",
    "        plot_img = images[i-1]\n",
    "        ax.set_title('Orginal Image')\n",
    "        guess_number = 0\n",
    "    else:\n",
    "        guess_number +=1\n",
    "        plot_img = images[i-1]\n",
    "        ind = guess_index[i-1]\n",
    "        ax.set_title('Guess: {} ({:.0f}%)'.format(signs[ind], 100*guess[i-1]))\n",
    "    imgs = plot_img.squeeze()\n",
    "    plt.imshow(imgs,cmap='gray')\n",
    "    \n",
    "plt.tight_layout(pad=1.08, h_pad=0.5, w_pad=0.5, rect=None)  "
   ]
  },
  {
   "cell_type": "markdown",
   "metadata": {},
   "source": [
    "### Output Top 5 Softmax Probabilities For Each Image Found on the Web"
   ]
  },
  {
   "cell_type": "markdown",
   "metadata": {},
   "source": [
    "For each of the new images, print out the model's softmax probabilities to show the **certainty** of the model's predictions (limit the output to the top 5 probabilities for each image). [`tf.nn.top_k`](https://www.tensorflow.org/versions/r0.12/api_docs/python/nn.html#top_k) could prove helpful here. \n",
    "\n",
    "The example below demonstrates how tf.nn.top_k can be used to find the top k predictions for each image.\n",
    "\n",
    "`tf.nn.top_k` will return the values and indices (class ids) of the top k predictions. So if k=3, for each sign, it'll return the 3 largest probabilities (out of a possible 43) and the correspoding class ids.\n",
    "\n",
    "Take this numpy array as an example. The values in the array represent predictions. The array contains softmax probabilities for five candidate images with six possible classes. `tf.nn.top_k` is used to choose the three classes with the highest probability:\n",
    "\n",
    "```\n",
    "# (5, 6) array\n",
    "a = np.array([[ 0.24879643,  0.07032244,  0.12641572,  0.34763842,  0.07893497,\n",
    "         0.12789202],\n",
    "       [ 0.28086119,  0.27569815,  0.08594638,  0.0178669 ,  0.18063401,\n",
    "         0.15899337],\n",
    "       [ 0.26076848,  0.23664738,  0.08020603,  0.07001922,  0.1134371 ,\n",
    "         0.23892179],\n",
    "       [ 0.11943333,  0.29198961,  0.02605103,  0.26234032,  0.1351348 ,\n",
    "         0.16505091],\n",
    "       [ 0.09561176,  0.34396535,  0.0643941 ,  0.16240774,  0.24206137,\n",
    "         0.09155967]])\n",
    "```\n",
    "\n",
    "Running it through `sess.run(tf.nn.top_k(tf.constant(a), k=3))` produces:\n",
    "\n",
    "```\n",
    "TopKV2(values=array([[ 0.34763842,  0.24879643,  0.12789202],\n",
    "       [ 0.28086119,  0.27569815,  0.18063401],\n",
    "       [ 0.26076848,  0.23892179,  0.23664738],\n",
    "       [ 0.29198961,  0.26234032,  0.16505091],\n",
    "       [ 0.34396535,  0.24206137,  0.16240774]]), indices=array([[3, 0, 5],\n",
    "       [0, 1, 4],\n",
    "       [0, 5, 1],\n",
    "       [1, 3, 5],\n",
    "       [1, 4, 3]], dtype=int32))\n",
    "```\n",
    "\n",
    "Looking just at the first row we get `[ 0.34763842,  0.24879643,  0.12789202]`, you can confirm these are the 3 largest probabilities in `a`. You'll also notice `[3, 0, 5]` are the corresponding indices."
   ]
  },
  {
   "cell_type": "code",
   "execution_count": null,
   "metadata": {},
   "outputs": [],
   "source": [
    "### Print out the top five softmax probabilities for the predictions on the German traffic sign images found on the web. \n",
    "### Feel free to use as many code cells as needed."
   ]
  },
  {
   "cell_type": "markdown",
   "metadata": {},
   "source": [
    "### Project Writeup\n",
    "\n",
    "Once you have completed the code implementation, document your results in a project writeup using this [template](https://github.com/udacity/CarND-Traffic-Sign-Classifier-Project/blob/master/writeup_template.md) as a guide. The writeup can be in a markdown or pdf file. "
   ]
  },
  {
   "cell_type": "markdown",
   "metadata": {},
   "source": [
    "> **Note**: Once you have completed all of the code implementations and successfully answered each question above, you may finalize your work by exporting the iPython Notebook as an HTML document. You can do this by using the menu above and navigating to  \\n\",\n",
    "    \"**File -> Download as -> HTML (.html)**. Include the finished document along with this notebook as your submission."
   ]
  },
  {
   "cell_type": "markdown",
   "metadata": {},
   "source": [
    "---\n",
    "\n",
    "## Step 4 (Optional): Visualize the Neural Network's State with Test Images\n",
    "\n",
    " This Section is not required to complete but acts as an additional excersise for understaning the output of a neural network's weights. While neural networks can be a great learning device they are often referred to as a black box. We can understand what the weights of a neural network look like better by plotting their feature maps. After successfully training your neural network you can see what it's feature maps look like by plotting the output of the network's weight layers in response to a test stimuli image. From these plotted feature maps, it's possible to see what characteristics of an image the network finds interesting. For a sign, maybe the inner network feature maps react with high activation to the sign's boundary outline or to the contrast in the sign's painted symbol.\n",
    "\n",
    " Provided for you below is the function code that allows you to get the visualization output of any tensorflow weight layer you want. The inputs to the function should be a stimuli image, one used during training or a new one you provided, and then the tensorflow variable name that represents the layer's state during the training process, for instance if you wanted to see what the [LeNet lab's](https://classroom.udacity.com/nanodegrees/nd013/parts/fbf77062-5703-404e-b60c-95b78b2f3f9e/modules/6df7ae49-c61c-4bb2-a23e-6527e69209ec/lessons/601ae704-1035-4287-8b11-e2c2716217ad/concepts/d4aca031-508f-4e0b-b493-e7b706120f81) feature maps looked like for it's second convolutional layer you could enter conv2 as the tf_activation variable.\n",
    "\n",
    "For an example of what feature map outputs look like, check out NVIDIA's results in their paper [End-to-End Deep Learning for Self-Driving Cars](https://devblogs.nvidia.com/parallelforall/deep-learning-self-driving-cars/) in the section Visualization of internal CNN State. NVIDIA was able to show that their network's inner weights had high activations to road boundary lines by comparing feature maps from an image with a clear path to one without. Try experimenting with a similar test to show that your trained network's weights are looking for interesting features, whether it's looking at differences in feature maps from images with or without a sign, or even what feature maps look like in a trained network vs a completely untrained one on the same sign image.\n",
    "\n",
    "<figure>\n",
    " <img src=\"visualize_cnn.png\" width=\"380\" alt=\"Combined Image\" />\n",
    " <figcaption>\n",
    " <p></p> \n",
    " <p style=\"text-align: center;\"> Your output should look something like this (above)</p> \n",
    " </figcaption>\n",
    "</figure>\n",
    " <p></p> \n"
   ]
  },
  {
   "cell_type": "code",
   "execution_count": null,
   "metadata": {},
   "outputs": [],
   "source": [
    "### Visualize your network's feature maps here.\n",
    "### Feel free to use as many code cells as needed.\n",
    "\n",
    "# image_input: the test image being fed into the network to produce the feature maps\n",
    "# tf_activation: should be a tf variable name used during your training procedure that represents the calculated state of a specific weight layer\n",
    "# activation_min/max: can be used to view the activation contrast in more detail, by default matplot sets min and max to the actual min and max values of the output\n",
    "# plt_num: used to plot out multiple different weight feature map sets on the same block, just extend the plt number for each new feature map entry\n",
    "\n",
    "def outputFeatureMap(image_input, tf_activation, activation_min=-1, activation_max=-1 ,plt_num=1):\n",
    "    # Here make sure to preprocess your image_input in a way your network expects\n",
    "    # with size, normalization, ect if needed\n",
    "    # image_input =\n",
    "    # Note: x should be the same name as your network's tensorflow data placeholder variable\n",
    "    # If you get an error tf_activation is not defined it may be having trouble accessing the variable from inside a function\n",
    "    activation = tf_activation.eval(session=sess,feed_dict={x : image_input})\n",
    "    featuremaps = activation.shape[3]\n",
    "    plt.figure(plt_num, figsize=(15,15))\n",
    "    for featuremap in range(featuremaps):\n",
    "        plt.subplot(6,8, featuremap+1) # sets the number of feature maps to show on each row and column\n",
    "        plt.title('FeatureMap ' + str(featuremap)) # displays the feature map number\n",
    "        if activation_min != -1 & activation_max != -1:\n",
    "            plt.imshow(activation[0,:,:, featuremap], interpolation=\"nearest\", vmin =activation_min, vmax=activation_max, cmap=\"gray\")\n",
    "        elif activation_max != -1:\n",
    "            plt.imshow(activation[0,:,:, featuremap], interpolation=\"nearest\", vmax=activation_max, cmap=\"gray\")\n",
    "        elif activation_min !=-1:\n",
    "            plt.imshow(activation[0,:,:, featuremap], interpolation=\"nearest\", vmin=activation_min, cmap=\"gray\")\n",
    "        else:\n",
    "            plt.imshow(activation[0,:,:, featuremap], interpolation=\"nearest\", cmap=\"gray\")"
   ]
  }
 ],
 "metadata": {
  "anaconda-cloud": {},
  "kernelspec": {
   "display_name": "Python 3",
   "language": "python",
   "name": "python3"
  },
  "language_info": {
   "codemirror_mode": {
    "name": "ipython",
    "version": 3
   },
   "file_extension": ".py",
   "mimetype": "text/x-python",
   "name": "python",
   "nbconvert_exporter": "python",
   "pygments_lexer": "ipython3",
   "version": "3.6.3"
  }
 },
 "nbformat": 4,
 "nbformat_minor": 1
}
